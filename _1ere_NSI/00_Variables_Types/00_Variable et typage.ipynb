{
 "cells": [
  {
   "cell_type": "markdown",
   "metadata": {},
   "source": [
    "### Au programme de ce notebook :\n",
    "- notion de variable -> stockage en mémoire d'une information\n",
    "\n",
    "On aborde ici la notion de science informatique, à savoir comment le langage Python va-t-il interpréter différentes instructions liées à la mémorisation d'informations et l'intéraction entre Python et le système d'exploitation."
   ]
  },
  {
   "cell_type": "markdown",
   "metadata": {},
   "source": [
    "# 1- Notion de variable et espace mémoire\n",
    "\n",
    "Un microprocesseur ne peut effectuer une opération que si les données sont disponibles en mémoire *( mémoire RAM -> Cf chapitre sur la structure d'un ordinateur )*.\n",
    "<br>\n",
    "Pour nous simplifier la tâche, nous n'allons pas gérer l'emplacement en mémoire des informations, c'est le rôle du système d'exploitation ( Linux, Windows, MacOs, ...). En revanche on doit pouvoir accéder à l'information souhaitée c'est pourquoi, dans notre programme, on va donner un nom à cet espace mémoire : **une variable**.\n",
    "<br>\n",
    "**Dans un programme, une variable est le nom donné à un espace mémoire où l'on souhaite stocker une information.**\n",
    "<br>\n",
    "Ainsi lorsque vous taper les instructions :"
   ]
  },
  {
   "cell_type": "code",
   "execution_count": null,
   "metadata": {},
   "outputs": [],
   "source": [
    "# Placer la valeur 2 en mémoire et donner à cet emplacement le nom de \"a\"\n",
    "a = 2"
   ]
  },
  {
   "cell_type": "markdown",
   "metadata": {},
   "source": [
    "vous indiquez ainsi à l'interpréteur de commande Python que **vous avez besoin de stocker en mémoire la valeur 2** et que cet emplacement mémoire portera le nom de \"a\".\n",
    "<br><br>\n",
    "NOTE IMPORTANTE : Dans le jargon informatique, on a coutûme de dire **\" La variable \"a\" contient la valeur 2 \"**.<br>\n",
    "Une variable est souvent comparée à un objet dans lequel on place l'information à mémoriser.<br>C'est pourquoi en algorithmique on utilise la notation [ a <- 2 ]\n",
    "<br><br>\n",
    "Si vous avez besoin de récupérer l'information stockée dans l'emplacement mémoire nommé \"a\", il suffit de taper son nom dans une cellule du notebook et d'exécuter cette cellule :"
   ]
  },
  {
   "cell_type": "code",
   "execution_count": null,
   "metadata": {},
   "outputs": [],
   "source": [
    "# Afficher le contenu de l'espace mémoire nommé \"a\"\n",
    "a"
   ]
  },
  {
   "cell_type": "markdown",
   "metadata": {},
   "source": [
    "ou de demander à l'interpréteur Python d'afficher l'information contenue dans l'espace mémoire que vous avez nommé “a“ :"
   ]
  },
  {
   "cell_type": "code",
   "execution_count": null,
   "metadata": {},
   "outputs": [],
   "source": [
    "# Afficher le contenu de l'espace mémoire nommé \"a\"\n",
    "# --------------> Plus simplement : afficher la valeur contenue dans \"a\"\n",
    "print ( a )"
   ]
  },
  {
   "cell_type": "markdown",
   "metadata": {},
   "source": [
    "# 2 - Optimiser l'espace mémoire\n",
    "\n",
    "L'interpréteur Python tient à jour un registre avec d'un côté tous les noms de variables déclarées et en face l'adresse en mémoire où a été placée l'information.\n",
    "<br>\n",
    "Si on souhaite connaître à quelle adresse mémoire a été placée l'information, on dispose de la commande en Python **id(** *nom de la variable* **)** :"
   ]
  },
  {
   "cell_type": "code",
   "execution_count": null,
   "metadata": {},
   "outputs": [],
   "source": [
    "# Afficher l'adresse en mémoire correspondant à la variable nommée \"a\"\n",
    "id(a)"
   ]
  },
  {
   "cell_type": "markdown",
   "metadata": {},
   "source": [
    "**Avant d'exécuter les deux cellules ci-dessous**, essayez d'anticiper ce qui devrait s'afficher lorsque vous allez exécuter les cellule du notebook ..."
   ]
  },
  {
   "cell_type": "code",
   "execution_count": null,
   "metadata": {},
   "outputs": [],
   "source": [
    "# Modifier l'information associée à la variable \"a\"\n",
    "a=4\n",
    "# Afficher l'espace mémoire associée à la variable \"a\"\n",
    "id(a)"
   ]
  },
  {
   "cell_type": "code",
   "execution_count": null,
   "metadata": {},
   "outputs": [],
   "source": [
    "# déclarer une nouvelle variable \"b\" qui contient la même information que \"a\" AVANT la modification ci-dessus\n",
    "b=2\n",
    "# Afficher l'espace mémoire associée à la variable \"b\"\n",
    "id(b)"
   ]
  },
  {
   "cell_type": "markdown",
   "metadata": {},
   "source": [
    "Après avoir exécuté les deux cellules, que pouvez-vous en conclure sur la gestion du stockage d'informations en mémoire ?\n",
    "\n",
    "=> ..."
   ]
  },
  {
   "cell_type": "markdown",
   "metadata": {},
   "source": [
    "# 3 - Typage des variables\n",
    "Le typage correspond à la nature de l'information stockée :<br>\n",
    "**int** *(integer)* -> un nombre entier relatif<br>\n",
    "**str** *(string_char)* -> chaîne de caratères<br>\n",
    "**float** *(floating point)* -> nombre à virgule flotante (qui se déplace) selon les puissances de 10<br>\n",
    "**list** *(liste)* -> tableau dynamique où les information sont rangées les unes après les autres selon un index (n° de place dans la file de 0 à ...)<br>\n",
    "**tuple** *(p-uplet invariables)* -> c'est une \"list\" **mais** dont le contenu ne peut pas être modifé<br>\n",
    "**bool** *(boolean)* -> variable qui ne peut contenir qu'une,information de type \"True\" ou \"False\". Ces deux information sont associée aux valeurs True = 1 et False = 0<br>\n",
    "<br>\n",
    "Vous pouvez afficher le type de l'information 'contenue dans une variable' avec l'instruction **type (** *nom de la variable* **)** :"
   ]
  },
  {
   "cell_type": "code",
   "execution_count": null,
   "metadata": {},
   "outputs": [],
   "source": [
    "a = 3                    # 'Placer' la valeur 3 dans a\n",
    "print( a, type ( a ) )   # Afficher le contenu de a puis le type de cette information\n",
    "a = \"NSI\"                # Modifier le type d'information stockée dans a\n",
    "print( a, type ( a ) )   # Afficher de nouveau le contenu de a puis le type de cette information"
   ]
  },
  {
   "cell_type": "markdown",
   "metadata": {},
   "source": [
    "*Ici, le mot clé \"class\" signifie que l'information est associée au paradigme de la programmation orientée objet, notion abordée en classe de terminale.*"
   ]
  },
  {
   "cell_type": "markdown",
   "metadata": {},
   "source": [
    "A savoir :<br>\n",
    "**Python est un langage faiblement typé**. \"Faiblement\" signifie que l'interpréteur se charge de définir ou modifier le type d'une variable en fonction de la nature de l'information que vous allez y stocker.<br>\n",
    "<br>\n",
    "Dans la cellule précédente, a était de type 'int' lorsqu'elle contenait la valeur 3. Python a automatiquement modifié le type de \"a\" lorsqu'on remplacer 3 par la chaîne de caractères \"NSI\" dans la variable.<br>\n",
    "<br>\n",
    "Dans des langages de programmation fortement typés ( C, JavaScript, php, ... ) le type de la variable est précisé lors sa déclaration (première utilisation) et ne peut pas être modifé ensuite.<br>\n",
    "Cela peut être vu comme une contrainte mais en réalité c'est souvent un gage de rapidité d'éxécution du code et une meilleure optimisation de l'espace mémoire."
   ]
  },
  {
   "cell_type": "markdown",
   "metadata": {},
   "source": [
    "## 3-1 Typage et espace mémoire\n",
    "Python met à disposition une commande située dans la bibliothèque [ sys ] avec laquelle on peut connaître, en octets, la quantité d'espace mémoire utilisé pour stocker une information :"
   ]
  },
  {
   "cell_type": "code",
   "execution_count": null,
   "metadata": {},
   "outputs": [],
   "source": [
    "from sys import getsizeof   # Depuis la bibliothèque “sys“, ajouter la fonction “getsizeof“ à l'interpréteur Python\n",
    "a = 2                       # Placer une information de type 'int' dans la variable \"a\"\n",
    "print ( a, \" / nombre d'octets :\", getsizeof(a))  # Afficher le contenu de \"a\" ainsi que le nombre d'octets réservés pour \"a\""
   ]
  },
  {
   "cell_type": "markdown",
   "metadata": {},
   "source": [
    "**Mettre en application :**<br>\n",
    "1 - Exécuter la cellule ci-dessous,"
   ]
  },
  {
   "cell_type": "code",
   "execution_count": null,
   "metadata": {},
   "outputs": [],
   "source": [
    "a = 2.4    # Attention, le séparation décimal est un point"
   ]
  },
  {
   "cell_type": "code",
   "execution_count": null,
   "metadata": {},
   "outputs": [],
   "source": [
    "# A la place des \"...\", à vous de taper les instructions qui permettront d'exécuter ce qui est indiqué en commentaire\n",
    "\n",
    "... # Afficher le type de l'information stockée dans la variable \"a\"\n",
    "... # Afficher l'espace mémoire réservé pour la variable \"a\""
   ]
  },
  {
   "cell_type": "markdown",
   "metadata": {},
   "source": [
    "2-1 Taper les instructions permettant d'effectuer les opérations suivantes :\n",
    "- Placer l'information \"1LG\" dans la variable \"t\" puis \n",
    "- Afficher son type\n",
    "- Afficher son emplacement dans l'espace mémoire\n",
    "- Afficher le nombre d'octet allouée pour la variable \"t\""
   ]
  },
  {
   "cell_type": "code",
   "execution_count": null,
   "metadata": {},
   "outputs": [],
   "source": [
    "t=\"1LG\"\n",
    "print(id(t))\n",
    "print(type(t))\n",
    "print(getsizeof(t))"
   ]
  },
  {
   "cell_type": "markdown",
   "metadata": {},
   "source": [
    "2-2 - Modifier le contenu de \"t\" avec l'information \"1LG-spé NSI\" et afficher à nouveau les caratéristiques de la variable \"t\" *( type, emplacement en mémoire, taille en octets )*."
   ]
  },
  {
   "cell_type": "code",
   "execution_count": null,
   "metadata": {},
   "outputs": [],
   "source": [
    "t=\"-spé NSI\"\n",
    "print(id(t))\n",
    "print(type(t))\n",
    "print(getsizeof(t))"
   ]
  },
  {
   "cell_type": "markdown",
   "metadata": {},
   "source": [
    "## 3-2 Des fonctionnalités différentes pour chaque type de variable\n",
    "Vos pouvez afficher la **liste des fonctions ou méthodes** *(Cf programmation orientée objet)* que Python tient à votre disposition pour effectuer des traitements ou obtenir des informations sur une variable et son contenu.<br>\n",
    "Pour cela vous pouvez utiliser l'instruction **dir (** *nom de la variable* **)**."
   ]
  },
  {
   "cell_type": "code",
   "execution_count": null,
   "metadata": {},
   "outputs": [],
   "source": [
    "a=2\n",
    "dir(a)"
   ]
  },
  {
   "cell_type": "code",
   "execution_count": null,
   "metadata": {},
   "outputs": [],
   "source": [
    "a=\"NSI\"\n",
    "dir(a)"
   ]
  },
  {
   "cell_type": "markdown",
   "metadata": {},
   "source": [
    "Pour afficher le mode d'emploi de ces méthodes, vous pouvez taper l'instruction **help (** *nom_de_la_variable* **.** *nom_de_la_méthode* **)** :"
   ]
  },
  {
   "cell_type": "code",
   "execution_count": null,
   "metadata": {},
   "outputs": [],
   "source": [
    "help(a.lower)"
   ]
  },
  {
   "cell_type": "code",
   "execution_count": null,
   "metadata": {},
   "outputs": [],
   "source": [
    "a.lower() # Appliquer la méthode \"lower()\" à la variable \"a\" et afficher le résultat de l'instruction"
   ]
  },
  {
   "cell_type": "code",
   "execution_count": null,
   "metadata": {},
   "outputs": [],
   "source": [
    "a         # vérifier que le contenu de la variable \"a\" n'a pas été affecté par l'instruction précédente !"
   ]
  },
  {
   "cell_type": "code",
   "execution_count": null,
   "metadata": {},
   "outputs": [],
   "source": [
    "# Pour modifier le contenu de la variable \"a\", il faut lui affecter le résultat de l'instruction a.lower()\n",
    "a = a.lower()\n",
    "print(a)"
   ]
  },
  {
   "cell_type": "markdown",
   "metadata": {},
   "source": [
    "**Mettre en application :**"
   ]
  },
  {
   "cell_type": "code",
   "execution_count": null,
   "metadata": {},
   "outputs": [],
   "source": []
  },
  {
   "cell_type": "markdown",
   "metadata": {},
   "source": [
    "## 3-3 Changer le type d'une information -> trans-typage\n",
    "Python dispose d'instructions spécifique pour modifier le type d'une information.<br>\n",
    "Exemple : passer d'un type 'str' au type 'int' :"
   ]
  },
  {
   "cell_type": "code",
   "execution_count": 37,
   "metadata": {},
   "outputs": [
    {
     "name": "stdout",
     "output_type": "stream",
     "text": [
      "45  ->  <class 'str'>\n",
      "45  ->  <class 'int'>\n"
     ]
    }
   ],
   "source": [
    "a = \"45\"           # Placer le texte \"45\" dans la variable \"a\"\n",
    "print( a, \" -> \", type(a) )   # Afficher le type de \"a\" afin de vérifier que \"a\" est bien de type 'str'\n",
    "a = int(a)         # Si la conversion est possible, la fonction int(  ) renvoit une valeur entière\n",
    "print( a, \" -> \", type(a) )   # Afficher le type de \"a\" afin de vérifier que \"a\" est maintenant de type 'int'"
   ]
  },
  {
   "cell_type": "markdown",
   "metadata": {},
   "source": [
    "De la même manière, il existe des fonctions de transtypage pour les autres types :<br>\n",
    "- **int ( ... )** : obtenir une valeur entière<br>\n",
    "- **str ( ... )** : obtenir une chaîne de caractères <br>\n",
    "- **float ( ... )** : obtenir un nombre décimal"
   ]
  },
  {
   "cell_type": "code",
   "execution_count": 40,
   "metadata": {},
   "outputs": [
    {
     "name": "stdout",
     "output_type": "stream",
     "text": [
      "-3.2  ->  <class 'float'>\n",
      "-3.2  ->  <class 'str'>\n"
     ]
    }
   ],
   "source": [
    "# exemple : passer du type \"float\" au type \"str\"\n",
    "a = -3.2\n",
    "print( a, \" -> \", type(a) )\n",
    "a = str(a)\n",
    "print( a, \" -> \", type(a) )"
   ]
  },
  {
   "cell_type": "markdown",
   "metadata": {},
   "source": [
    "**Note importante :** si la conversion n'est pas possible, alors Python l'indique par un message d'erreur.<br>\n",
    "Exemple, on ne peut pas convertir la chaîne de caractères \"3,2\" en nombre décimal :"
   ]
  },
  {
   "cell_type": "code",
   "execution_count": 43,
   "metadata": {},
   "outputs": [],
   "source": [
    "x = float(\"3,2\") # Conversion impossible"
   ]
  },
  {
   "cell_type": "markdown",
   "metadata": {},
   "source": [
    "Quelle est la nature de l'erreur commise dans la cellule ci-dessus ?<br>\n",
    "-> ..."
   ]
  },
  {
   "cell_type": "markdown",
   "metadata": {},
   "source": [
    "## 3-4 Prendre en charge une information saisie au clavier\n",
    "Pour saisir une information au clavier on utilise l'instruction **input(\"** texte de la question **\")**.<br>\n",
    "Lorsque l'utilisateur appuie sur la touche de validation, le résultat de la saisie est placé dans une variable de tpe \"str\" :"
   ]
  },
  {
   "cell_type": "code",
   "execution_count": 45,
   "metadata": {},
   "outputs": [
    {
     "name": "stdout",
     "output_type": "stream",
     "text": [
      "Entrez un nombre entre 0 et 10 : 23\n",
      "Vous avez saisi  23\n",
      "La réponse est de type  <class 'str'>\n"
     ]
    }
   ],
   "source": [
    "rep = input(\"Entrez un nombre entre 0 et 10 : \")   # Saisir une information via le clavier\n",
    "print(\"Vous avez saisi \", rep)                     # Afficher l'information stockée dans la variable \"rep\"\n",
    "print(\"La réponse est de type \", type(rep))        # Afficher le type de la réponse\n",
    "rep = int(rep)                                     # convertir en type 'int'\n",
    "print(\"Maintenant, la réponse est de type : \", type(rep)) # Afficher le résultat de la conversion"
   ]
  },
  {
   "cell_type": "markdown",
   "metadata": {},
   "source": [
    "Il va falloir maintenant vérifier que l'information saisie au clavier correspond bien aux contraintes fixées c'est à dire, que l'utilisateur a bien respecté les consignes (ce qui n'est pas toujours le cas ...).<br>"
   ]
  },
  {
   "cell_type": "markdown",
   "metadata": {},
   "source": [
    "Suite avec le notebook : 01_1_Structure conditionnelle et Opérateurs de base"
   ]
  }
 ],
 "metadata": {
  "kernelspec": {
   "display_name": "Python 3",
   "language": "python",
   "name": "python3"
  },
  "language_info": {
   "codemirror_mode": {
    "name": "ipython",
    "version": 3
   },
   "file_extension": ".py",
   "mimetype": "text/x-python",
   "name": "python",
   "nbconvert_exporter": "python",
   "pygments_lexer": "ipython3",
   "version": "3.7.4"
  }
 },
 "nbformat": 4,
 "nbformat_minor": 2
}
