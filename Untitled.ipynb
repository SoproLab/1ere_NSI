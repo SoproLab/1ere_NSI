{
 "cells": [
  {
   "cell_type": "markdown",
   "metadata": {},
   "source": [
    "# Programmes de rendu de monaie"
   ]
  },
  {
   "cell_type": "markdown",
   "metadata": {},
   "source": [
    "Parcourir tout le tableau des valeurs possible à chaque itération"
   ]
  },
  {
   "cell_type": "code",
   "execution_count": 20,
   "metadata": {},
   "outputs": [
    {
     "name": "stdout",
     "output_type": "stream",
     "text": [
      "Nombre d'itérations : 19\n",
      "[500, 200, 100, 50, 20, 10, 5, 2, 1]\n"
     ]
    }
   ],
   "source": [
    "C = [ 500, 200, 100, 50, 20, 10, 5, 2, 1 ]\n",
    "def rendu_monaie ( C, S ):\n",
    "    cptr = 0 # Compte de boucles\n",
    "    reste = []\n",
    "    while S != 0:\n",
    "        n = 0\n",
    "        while C[n] > S:\n",
    "            n = n+1\n",
    "            cptr = cptr+1\n",
    "        reste.append(C[n])\n",
    "        S = S - C[n]\n",
    "    print(\"Nombre d'itérations :\", cptr)\n",
    "    return reste\n",
    "rendu_monaie ( C, 753 )\n",
    "print(C)\n"
   ]
  },
  {
   "cell_type": "markdown",
   "metadata": {},
   "source": [
    "## Optimisation du parcours du tableau"
   ]
  },
  {
   "cell_type": "markdown",
   "metadata": {},
   "source": [
    "Ne pas parcourir le début du tableau => à chaque itération mais reprendre là où on c'était arrêté la fois précédente."
   ]
  },
  {
   "cell_type": "code",
   "execution_count": 19,
   "metadata": {},
   "outputs": [
    {
     "name": "stdout",
     "output_type": "stream",
     "text": [
      "Nombre d'itérations : 8\n",
      "[500, 200, 100, 50, 20, 10, 5, 2, 1]\n"
     ]
    }
   ],
   "source": [
    "C = [ 500, 200, 100, 50, 20, 10, 5, 2, 1 ]\n",
    "def rendu_monnaie ( C, S ):\n",
    "    cptr = 0 # Compte de boucles \n",
    "    reste = []\n",
    "    n = 0\n",
    "    while S != 0:\n",
    "        while C[n] > S:\n",
    "            cptr = cptr+1\n",
    "            n = n+1\n",
    "        reste.append(C[n])\n",
    "        S = S - C[n]\n",
    "    print(\"Nombre d'itérations :\", cptr)\n",
    "    return reste\n",
    "rendu_monnaie ( C, 753 )\n",
    "print(C)"
   ]
  },
  {
   "cell_type": "markdown",
   "metadata": {},
   "source": [
    "## Fonction récursive"
   ]
  },
  {
   "cell_type": "code",
   "execution_count": 18,
   "metadata": {},
   "outputs": [
    {
     "name": "stdout",
     "output_type": "stream",
     "text": [
      "Nombre d'itérations :  8\n",
      "[500, 200, 100, 50, 20, 10, 5, 2, 1]\n"
     ]
    }
   ],
   "source": [
    "C = [ 500, 200, 100, 50, 20, 10, 5, 2, 1 ]\n",
    "cptr = 0\n",
    "def rendu_monnaie_recursive ( C, S):\n",
    "    global cptr\n",
    "    if S == 0:\n",
    "        resultat_partiel=[]\n",
    "    else:\n",
    "        i = 0\n",
    "        while C[i] > S:\n",
    "            cptr = cptr + 1\n",
    "            i = i + 1\n",
    "        resultat_partiel = rendu_monnaie_recursive ( C[i:], S - C[i])\n",
    "        resultat_partiel.append(C[i])\n",
    "    return resultat_partiel\n",
    "\n",
    "rendu_monnaie_recursive( C, 753 )\n",
    "print(\"Nombre d'itérations : \", cptr)\n",
    "print(C)"
   ]
  },
  {
   "cell_type": "markdown",
   "metadata": {},
   "source": [
    "# Programme du sac à dos"
   ]
  },
  {
   "cell_type": "code",
   "execution_count": 24,
   "metadata": {},
   "outputs": [
    {
     "data": {
      "text/plain": [
       "[1, 1, 1, 1, 1, 1, 1, 0]"
      ]
     },
     "execution_count": 24,
     "metadata": {},
     "output_type": "execute_result"
    }
   ],
   "source": [
    "def sac_a_dos(P, Pmax):\n",
    "    cumulP = 0\n",
    "    X = []\n",
    "    for i in range(len(P)):\n",
    "        if cumulP + P[i] <= Pmax:\n",
    "            X.append(1)\n",
    "            cumulP = cumulP + P[i]\n",
    "        else:\n",
    "            X.append(0)\n",
    "    return X\n",
    "            \n",
    "Objets = [(3,7), (3,6), (2,6), (2,5), (4,7), (4,12), (5,8), (5,20)]\n",
    "Objets.sort(key=lambda x : x[1]/x[0])\n",
    "P=[]\n",
    "for i in range(len(Objets)):\n",
    "    P.append(Objets[i][0])\n",
    "P.reverse()\n",
    "sac_a_dos(P, 25)"
   ]
  },
  {
   "cell_type": "markdown",
   "metadata": {},
   "source": [
    "## Récupérer toutes les caractéristiques de l'objet"
   ]
  },
  {
   "cell_type": "code",
   "execution_count": 31,
   "metadata": {},
   "outputs": [
    {
     "data": {
      "text/plain": [
       "[(5, 8), (4, 7), (3, 6)]"
      ]
     },
     "execution_count": 31,
     "metadata": {},
     "output_type": "execute_result"
    }
   ],
   "source": [
    "def sac_a_dos_complet (Objets, Pmax):\n",
    "    Objets.sort(key=lambda x : x[1]/x[0])\n",
    "    Objets.reverse\n",
    "    cumulP = 0\n",
    "    resultat = []\n",
    "    for i in range(len(Objets)):\n",
    "        if (cumulP + Objets[i][0] <= Pmax):\n",
    "            resultat.append(Objets[i])\n",
    "            cumulP = cumulP + Objets[i][0]\n",
    "    return resultat\n",
    "Objets = [(3,7), (3,6), (2,6), (2,5), (4,7), (4,12), (5,8), (5,20)]\n",
    "sac_a_dos_complet ( Objets, 12 )"
   ]
  },
  {
   "cell_type": "markdown",
   "metadata": {},
   "source": [
    "# Algorithme du rangement d'objets dans des boîtes"
   ]
  },
  {
   "cell_type": "code",
   "execution_count": null,
   "metadata": {},
   "outputs": [],
   "source": []
  }
 ],
 "metadata": {
  "kernelspec": {
   "display_name": "Python 3",
   "language": "python",
   "name": "python3"
  },
  "language_info": {
   "codemirror_mode": {
    "name": "ipython",
    "version": 3
   },
   "file_extension": ".py",
   "mimetype": "text/x-python",
   "name": "python",
   "nbconvert_exporter": "python",
   "pygments_lexer": "ipython3",
   "version": "3.7.4"
  }
 },
 "nbformat": 4,
 "nbformat_minor": 4
}
